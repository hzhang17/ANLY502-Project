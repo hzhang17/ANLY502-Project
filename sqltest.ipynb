{
 "cells": [
  {
   "cell_type": "code",
   "execution_count": 1,
   "metadata": {},
   "outputs": [],
   "source": [
    "import findspark\n",
    "findspark.init()\n",
    "from pyspark.sql import SparkSession\n",
    "spark = SparkSession.builder.appName('test').getOrCreate()"
   ]
  },
  {
   "cell_type": "code",
   "execution_count": 2,
   "metadata": {},
   "outputs": [
    {
     "data": {
      "text/html": [
       "\n",
       "            <div>\n",
       "                <p><b>SparkSession - in-memory</b></p>\n",
       "                \n",
       "        <div>\n",
       "            <p><b>SparkContext</b></p>\n",
       "\n",
       "            <p><a href=\"http://ip-172-31-4-239.ec2.internal:4040\">Spark UI</a></p>\n",
       "\n",
       "            <dl>\n",
       "              <dt>Version</dt>\n",
       "                <dd><code>v2.4.4</code></dd>\n",
       "              <dt>Master</dt>\n",
       "                <dd><code>yarn</code></dd>\n",
       "              <dt>AppName</dt>\n",
       "                <dd><code>test</code></dd>\n",
       "            </dl>\n",
       "        </div>\n",
       "        \n",
       "            </div>\n",
       "        "
      ],
      "text/plain": [
       "<pyspark.sql.session.SparkSession at 0x7f5f20eff390>"
      ]
     },
     "execution_count": 2,
     "metadata": {},
     "output_type": "execute_result"
    }
   ],
   "source": [
    "spark"
   ]
  },
  {
   "cell_type": "code",
   "execution_count": 76,
   "metadata": {},
   "outputs": [],
   "source": [
    "df = spark.read.format('csv')\\\n",
    "    .option('inferSchema', 'true')\\\n",
    "    .option('header', 'true')\\\n",
    "    .load('s3://hzhang502/test')"
   ]
  },
  {
   "cell_type": "code",
   "execution_count": 7,
   "metadata": {},
   "outputs": [
    {
     "name": "stdout",
     "output_type": "stream",
     "text": [
      "+------------+--------+--------------------+------------+--------+----------+-------------------+-----+----------+--------+--------+--------+------------+--------------+\n",
      "|        ISIN|Mnemonic|        SecurityDesc|SecurityType|Currency|SecurityID|               Date| Time|StartPrice|MaxPrice|MinPrice|EndPrice|TradedVolume|NumberOfTrades|\n",
      "+------------+--------+--------------------+------------+--------+----------+-------------------+-----+----------+--------+--------+--------+------------+--------------+\n",
      "|DE000BFB0019|     B4B|  METRO AG   ST O.N.|Common stock|     EUR|   2532386|2018-10-08 00:00:00|07:00|     13.53|   13.53|  13.525|  13.525|        2614|             5|\n",
      "|DE0006969603|     PUM|             PUMA SE|Common stock|     EUR|   2505067|2018-10-08 00:00:00|07:00|     421.5|   421.5|   420.5|   421.5|          95|             4|\n",
      "|NL0011375019|     SNH|STEINHOFF INT.HLD...|Common stock|     EUR|   2506267|2018-10-08 00:00:00|07:00|     0.141|   0.141|   0.141|   0.141|      264497|             1|\n",
      "|DE000A2AADD2|     IGY|INNOGY SE  INH. O.N.|Common stock|     EUR|   2504618|2018-10-08 00:00:00|07:00|     38.31|   38.45|   38.31|   38.45|         732|             5|\n",
      "|DE0006231004|     IFX|INFINEON TECH.AG ...|Common stock|     EUR|   2505024|2018-10-08 00:00:00|07:00|      19.6|    19.6|   19.55|   19.56|       90280|            36|\n",
      "+------------+--------+--------------------+------------+--------+----------+-------------------+-----+----------+--------+--------+--------+------------+--------------+\n",
      "only showing top 5 rows\n",
      "\n"
     ]
    }
   ],
   "source": [
    "df.show(5)"
   ]
  },
  {
   "cell_type": "code",
   "execution_count": 77,
   "metadata": {},
   "outputs": [
    {
     "name": "stdout",
     "output_type": "stream",
     "text": [
      "root\n",
      " |-- ISIN: string (nullable = true)\n",
      " |-- Mnemonic: string (nullable = true)\n",
      " |-- SecurityDesc: string (nullable = true)\n",
      " |-- SecurityType: string (nullable = true)\n",
      " |-- Currency: string (nullable = true)\n",
      " |-- SecurityID: integer (nullable = true)\n",
      " |-- Date: timestamp (nullable = true)\n",
      " |-- Time: string (nullable = true)\n",
      " |-- StartPrice: double (nullable = true)\n",
      " |-- MaxPrice: double (nullable = true)\n",
      " |-- MinPrice: double (nullable = true)\n",
      " |-- EndPrice: double (nullable = true)\n",
      " |-- TradedVolume: integer (nullable = true)\n",
      " |-- NumberOfTrades: integer (nullable = true)\n",
      "\n"
     ]
    }
   ],
   "source": [
    "df.printSchema()"
   ]
  },
  {
   "cell_type": "code",
   "execution_count": 78,
   "metadata": {},
   "outputs": [],
   "source": [
    "drop = ['ISIN', 'Currency', 'SecurityID', 'TradedVolume', 'NumberOfTrades']\n",
    "for col in drop:\n",
    "    df = df.drop(col)"
   ]
  },
  {
   "cell_type": "code",
   "execution_count": 79,
   "metadata": {},
   "outputs": [
    {
     "name": "stdout",
     "output_type": "stream",
     "text": [
      "+--------+--------------------+------------+-------------------+-----+----------+--------+--------+--------+\n",
      "|Mnemonic|        SecurityDesc|SecurityType|               Date| Time|StartPrice|MaxPrice|MinPrice|EndPrice|\n",
      "+--------+--------------------+------------+-------------------+-----+----------+--------+--------+--------+\n",
      "|     B4B|  METRO AG   ST O.N.|Common stock|2018-10-08 00:00:00|07:00|     13.53|   13.53|  13.525|  13.525|\n",
      "|     PUM|             PUMA SE|Common stock|2018-10-08 00:00:00|07:00|     421.5|   421.5|   420.5|   421.5|\n",
      "|     SNH|STEINHOFF INT.HLD...|Common stock|2018-10-08 00:00:00|07:00|     0.141|   0.141|   0.141|   0.141|\n",
      "|     IGY|INNOGY SE  INH. O.N.|Common stock|2018-10-08 00:00:00|07:00|     38.31|   38.45|   38.31|   38.45|\n",
      "|     IFX|INFINEON TECH.AG ...|Common stock|2018-10-08 00:00:00|07:00|      19.6|    19.6|   19.55|   19.56|\n",
      "+--------+--------------------+------------+-------------------+-----+----------+--------+--------+--------+\n",
      "only showing top 5 rows\n",
      "\n"
     ]
    }
   ],
   "source": [
    "df.show(5)"
   ]
  },
  {
   "cell_type": "code",
   "execution_count": 80,
   "metadata": {},
   "outputs": [
    {
     "data": {
      "text/plain": [
       "96351"
      ]
     },
     "execution_count": 80,
     "metadata": {},
     "output_type": "execute_result"
    }
   ],
   "source": [
    "df.count()"
   ]
  },
  {
   "cell_type": "code",
   "execution_count": 81,
   "metadata": {},
   "outputs": [],
   "source": [
    "df_new = df.withColumn('Date', df['Date'].cast('date'))"
   ]
  },
  {
   "cell_type": "code",
   "execution_count": 82,
   "metadata": {},
   "outputs": [],
   "source": [
    "df_new = df_new.filter(df_new['SecurityType'] == 'Common stock')"
   ]
  },
  {
   "cell_type": "code",
   "execution_count": 83,
   "metadata": {},
   "outputs": [],
   "source": [
    "import pyspark\n",
    "split_col = pyspark.sql.functions.split(df_new['Time'], ':')\n",
    "df1 = df_new.withColumn('Hour', split_col.getItem(0))\n",
    "df1 = df1.withColumn('Minute', split_col.getItem(1))"
   ]
  },
  {
   "cell_type": "code",
   "execution_count": 84,
   "metadata": {},
   "outputs": [
    {
     "name": "stdout",
     "output_type": "stream",
     "text": [
      "+--------+--------------------+------------+----------+-----+----------+--------+--------+--------+----+------+\n",
      "|Mnemonic|        SecurityDesc|SecurityType|      Date| Time|StartPrice|MaxPrice|MinPrice|EndPrice|Hour|Minute|\n",
      "+--------+--------------------+------------+----------+-----+----------+--------+--------+--------+----+------+\n",
      "|     B4B|  METRO AG   ST O.N.|Common stock|2018-10-08|07:00|     13.53|   13.53|  13.525|  13.525|  07|    00|\n",
      "|     PUM|             PUMA SE|Common stock|2018-10-08|07:00|     421.5|   421.5|   420.5|   421.5|  07|    00|\n",
      "|     SNH|STEINHOFF INT.HLD...|Common stock|2018-10-08|07:00|     0.141|   0.141|   0.141|   0.141|  07|    00|\n",
      "|     IGY|INNOGY SE  INH. O.N.|Common stock|2018-10-08|07:00|     38.31|   38.45|   38.31|   38.45|  07|    00|\n",
      "|     IFX|INFINEON TECH.AG ...|Common stock|2018-10-08|07:00|      19.6|    19.6|   19.55|   19.56|  07|    00|\n",
      "+--------+--------------------+------------+----------+-----+----------+--------+--------+--------+----+------+\n",
      "only showing top 5 rows\n",
      "\n"
     ]
    }
   ],
   "source": [
    "df1.show(5)"
   ]
  },
  {
   "cell_type": "code",
   "execution_count": 47,
   "metadata": {},
   "outputs": [
    {
     "name": "stdout",
     "output_type": "stream",
     "text": [
      "root\n",
      " |-- Mnemonic: string (nullable = true)\n",
      " |-- SecurityDesc: string (nullable = true)\n",
      " |-- SecurityType: string (nullable = true)\n",
      " |-- SecurityID: integer (nullable = true)\n",
      " |-- date: date (nullable = true)\n",
      " |-- Time: string (nullable = true)\n",
      " |-- StartPrice: double (nullable = true)\n",
      " |-- MaxPrice: double (nullable = true)\n",
      " |-- MinPrice: double (nullable = true)\n",
      " |-- EndPrice: double (nullable = true)\n",
      " |-- Hour: string (nullable = true)\n",
      " |-- Minute: string (nullable = true)\n",
      "\n"
     ]
    }
   ],
   "source": [
    "df1.printSchema()"
   ]
  },
  {
   "cell_type": "code",
   "execution_count": 49,
   "metadata": {},
   "outputs": [],
   "source": [
    "df1 = df1.withColumn('Hour', df1['Hour'].cast('int'))\n",
    "df1 = df1.withColumn('Minute', df1['Minute'].cast('int'))"
   ]
  },
  {
   "cell_type": "code",
   "execution_count": 52,
   "metadata": {},
   "outputs": [],
   "source": [
    "df2 = df1.filter(df1['Hour'] >= 8)"
   ]
  },
  {
   "cell_type": "code",
   "execution_count": 66,
   "metadata": {},
   "outputs": [
    {
     "name": "stdout",
     "output_type": "stream",
     "text": [
      "root\n",
      " |-- Mnemonic: string (nullable = true)\n",
      " |-- SecurityDesc: string (nullable = true)\n",
      " |-- SecurityType: string (nullable = true)\n",
      " |-- SecurityID: integer (nullable = true)\n",
      " |-- date: date (nullable = true)\n",
      " |-- Time: string (nullable = true)\n",
      " |-- StartPrice: double (nullable = true)\n",
      " |-- MaxPrice: double (nullable = true)\n",
      " |-- MinPrice: double (nullable = true)\n",
      " |-- EndPrice: double (nullable = true)\n",
      " |-- Hour: integer (nullable = true)\n",
      " |-- Minute: integer (nullable = true)\n",
      "\n"
     ]
    }
   ],
   "source": [
    "df2.printSchema()"
   ]
  },
  {
   "cell_type": "code",
   "execution_count": 73,
   "metadata": {},
   "outputs": [],
   "source": [
    "df3 = df2.filter((df2['Hour'] <= 19) | ((df2['Hour'] == 20) & (df2['Minute'] == 0)))"
   ]
  },
  {
   "cell_type": "code",
   "execution_count": 91,
   "metadata": {},
   "outputs": [],
   "source": [
    "df3.write.csv('s3://hzhang502/result')"
   ]
  },
  {
   "cell_type": "code",
   "execution_count": null,
   "metadata": {},
   "outputs": [],
   "source": []
  }
 ],
 "metadata": {
  "kernelspec": {
   "display_name": "Python 3",
   "language": "python",
   "name": "python3"
  },
  "language_info": {
   "codemirror_mode": {
    "name": "ipython",
    "version": 3
   },
   "file_extension": ".py",
   "mimetype": "text/x-python",
   "name": "python",
   "nbconvert_exporter": "python",
   "pygments_lexer": "ipython3",
   "version": "3.7.6"
  }
 },
 "nbformat": 4,
 "nbformat_minor": 4
}
