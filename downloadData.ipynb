{
 "cells": [
  {
   "cell_type": "code",
   "execution_count": 1,
   "metadata": {},
   "outputs": [],
   "source": [
    "import pandas as pd\n",
    "import os.path"
   ]
  },
  {
   "cell_type": "code",
   "execution_count": 2,
   "metadata": {},
   "outputs": [],
   "source": [
    "# Save stock data of 2018-2019\n",
    "from_date = '2018-01-01'\n",
    "end_date = '2019-12-31'\n",
    "dates = list(pd.date_range(from_date, end_date, freq='D').strftime('%Y-%m-%d'))"
   ]
  },
  {
   "cell_type": "code",
   "execution_count": 3,
   "metadata": {},
   "outputs": [],
   "source": [
    "# target location is local machine\n",
    "target_folder = '/Users/zhanghan/Desktop/a502/data'\n",
    "script = '/Users/zhanghan/Desktop/a502/data/download.sh'"
   ]
  },
  {
   "cell_type": "code",
   "execution_count": 4,
   "metadata": {},
   "outputs": [],
   "source": [
    "# write script to download csv from Deutsche Boerse public dataset\n",
    "# it will print success message for each file downloaded\n",
    "with open(script, 'w') as f:\n",
    "    f.write(\"#!/bin/bash\\n\")\n",
    "    f.write(\"\\nset -euo pipefail\\n\")\n",
    "    for date in dates:\n",
    "\n",
    "        f.write(\"\"\"\n",
    "    echo \"Getting data for date {date}\"        \n",
    "    mkdir -p {target_folder}\n",
    "    aws s3 sync s3://deutsche-boerse-xetra-pds/{date} {target_folder} --no-sign-request\n",
    "                \n",
    "\\n\"\"\".format(date=date, target_folder=target_folder))"
   ]
  },
  {
   "cell_type": "code",
   "execution_count": 5,
   "metadata": {},
   "outputs": [],
   "source": [
    "! chmod +x {script} # make script executable"
   ]
  },
  {
   "cell_type": "code",
   "execution_count": 6,
   "metadata": {},
   "outputs": [
    {
     "name": "stdout",
     "output_type": "stream",
     "text": [
      "Getting data for date 2018-01-01\n",
      "download: s3://deutsche-boerse-xetra-pds/2018-01-01/2018-01-01_BINS_XETR03.csv to data/2018-01-01_BINS_XETR03.csv\n",
      "download: s3://deutsche-boerse-xetra-pds/2018-01-01/2018-01-01_BINS_XETR00.csv to data/2018-01-01_BINS_XETR00.csv\n",
      "download: s3://deutsche-boerse-xetra-pds/2018-01-01/2018-01-01_BINS_XETR01.csv to data/2018-01-01_BINS_XETR01.csv\n",
      "download: s3://deutsche-boerse-xetra-pds/2018-01-01/2018-01-01_BINS_XETR02.csv to data/2018-01-01_BINS_XETR02.csv\n",
      "download: s3://deutsche-boerse-xetra-pds/2018-01-01/2018-01-01_BINS_XETR07.csv to data/2018-01-01_BINS_XETR07.csv\n",
      "download: s3://deutsche-boerse-xetra-pds/2018-01-01/2018-01-01_BINS_XETR05.csv to data/2018-01-01_BINS_XETR05.csv\n",
      "download: s3://deutsche-boerse-xetra-pds/2018-01-01/2018-01-01_BINS_XETR10.csv to data/2018-01-01_BINS_XETR10.csv\n",
      "download: s3://deutsche-boerse-xetra-pds/2018-01-01/2018-01-01_BINS_XETR08.csv to data/2018-01-01_BINS_XETR08.csv\n",
      "download: s3://deutsche-boerse-xetra-pds/2018-01-01/2018-01-01_BINS_XETR13.csv to data/2018-01-01_BINS_XETR13.csv\n",
      "download: s3://deutsche-boerse-xetra-pds/2018-01-01/2018-01-01_BINS_XETR06.csv to data/2018-01-01_BINS_XETR06.csv\n",
      "download: s3://deutsche-boerse-xetra-pds/2018-01-01/2018-01-01_BINS_XETR12.csv to data/2018-01-01_BINS_XETR12.csv\n",
      "download: s3://deutsche-boerse-xetra-pds/2018-01-01/2018-01-01_BINS_XETR04.csv to data/2018-01-01_BINS_XETR04.csv\n",
      "download: s3://deutsche-boerse-xetra-pds/2018-01-01/2018-01-01_BINS_XETR11.csv to data/2018-01-01_BINS_XETR11.csv\n",
      "download: s3://deutsche-boerse-xetra-pds/2018-01-01/2018-01-01_BINS_XETR09.csv to data/2018-01-01_BINS_XETR09.csv\n",
      "download: s3://deutsche-boerse-xetra-pds/2018-01-01/2018-01-01_BINS_XETR16.csv to data/2018-01-01_BINS_XETR16.csv\n",
      "download: s3://deutsche-boerse-xetra-pds/2018-01-01/2018-01-01_BINS_XETR14.csv to data/2018-01-01_BINS_XETR14.csv\n",
      "download: s3://deutsche-boerse-xetra-pds/2018-01-01/2018-01-01_BINS_XETR15.csv to data/2018-01-01_BINS_XETR15.csv\n",
      "download: s3://deutsche-boerse-xetra-pds/2018-01-01/2018-01-01_BINS_XETR18.csv to data/2018-01-01_BINS_XETR18.csv\n",
      "download: s3://deutsche-boerse-xetra-pds/2018-01-01/2018-01-01_BINS_XETR21.csv to data/2018-01-01_BINS_XETR21.csv\n",
      "download: s3://deutsche-boerse-xetra-pds/2018-01-01/2018-01-01_BINS_XETR20.csv to data/2018-01-01_BINS_XETR20.csv\n",
      "download: s3://deutsche-boerse-xetra-pds/2018-01-01/2018-01-01_BINS_XETR17.csv to data/2018-01-01_BINS_XETR17.csv\n",
      "download: s3://deutsche-boerse-xetra-pds/2018-01-01/2018-01-01_BINS_XETR19.csv to data/2018-01-01_BINS_XETR19.csv\n",
      "download: s3://deutsche-boerse-xetra-pds/2018-01-01/2018-01-01_BINS_XETR23.csv to data/2018-01-01_BINS_XETR23.csv\n",
      "download: s3://deutsche-boerse-xetra-pds/2018-01-01/2018-01-01_BINS_XETR22.csv to data/2018-01-01_BINS_XETR22.csv\n",
      "                                                                                 \n",
      "Getting data for date 2018-01-02\n",
      "download: s3://deutsche-boerse-xetra-pds/2018-01-02/2018-01-02_BINS_XETR01.csv to data/2018-01-02_BINS_XETR01.csv\n",
      "download: s3://deutsche-boerse-xetra-pds/2018-01-02/2018-01-02_BINS_XETR00.csv to data/2018-01-02_BINS_XETR00.csv\n",
      "download: s3://deutsche-boerse-xetra-pds/2018-01-02/2018-01-02_BINS_XETR02.csv to data/2018-01-02_BINS_XETR02.csv\n",
      "download: s3://deutsche-boerse-xetra-pds/2018-01-02/2018-01-02_BINS_XETR05.csv to data/2018-01-02_BINS_XETR05.csv\n",
      "download: s3://deutsche-boerse-xetra-pds/2018-01-02/2018-01-02_BINS_XETR06.csv to data/2018-01-02_BINS_XETR06.csv\n",
      "download: s3://deutsche-boerse-xetra-pds/2018-01-02/2018-01-02_BINS_XETR04.csv to data/2018-01-02_BINS_XETR04.csv\n",
      "download: s3://deutsche-boerse-xetra-pds/2018-01-02/2018-01-02_BINS_XETR03.csv to data/2018-01-02_BINS_XETR03.csv\n",
      "download: s3://deutsche-boerse-xetra-pds/2018-01-02/2018-01-02_BINS_XETR07.csv to data/2018-01-02_BINS_XETR07.csv\n",
      "download: s3://deutsche-boerse-xetra-pds/2018-01-02/2018-01-02_BINS_XETR17.csv to data/2018-01-02_BINS_XETR17.csv\n",
      "download: s3://deutsche-boerse-xetra-pds/2018-01-02/2018-01-02_BINS_XETR18.csv to data/2018-01-02_BINS_XETR18.csv\n",
      "download: s3://deutsche-boerse-xetra-pds/2018-01-02/2018-01-02_BINS_XETR19.csv to data/2018-01-02_BINS_XETR19.csv\n",
      "download: s3://deutsche-boerse-xetra-pds/2018-01-02/2018-01-02_BINS_XETR11.csv to data/2018-01-02_BINS_XETR11.csv\n",
      "download: s3://deutsche-boerse-xetra-pds/2018-01-02/2018-01-02_BINS_XETR20.csv to data/2018-01-02_BINS_XETR20.csv\n",
      "^Cmpleted 3.5 MiB/~7.7 MiB (2.7 MiB/s) with ~11 file(s) remaining (calculating...)\n",
      "cancelled: ctrl-c received                                                        \n"
     ]
    }
   ],
   "source": [
    "! {script} # run script\n",
    "# we used this script multiple times to download data in different range\n",
    "# so the result printed here is not full, just to show that the script works"
   ]
  },
  {
   "cell_type": "code",
   "execution_count": null,
   "metadata": {},
   "outputs": [],
   "source": []
  }
 ],
 "metadata": {
  "kernelspec": {
   "display_name": "Python 3",
   "language": "python",
   "name": "python3"
  },
  "language_info": {
   "codemirror_mode": {
    "name": "ipython",
    "version": 3
   },
   "file_extension": ".py",
   "mimetype": "text/x-python",
   "name": "python",
   "nbconvert_exporter": "python",
   "pygments_lexer": "ipython3",
   "version": "3.7.6"
  }
 },
 "nbformat": 4,
 "nbformat_minor": 4
}
